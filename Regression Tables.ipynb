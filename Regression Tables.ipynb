{
 "cells": [
  {
   "cell_type": "code",
   "execution_count": 1,
   "metadata": {},
   "outputs": [],
   "source": [
    "library(readxl)"
   ]
  },
  {
   "cell_type": "code",
   "execution_count": 2,
   "metadata": {},
   "outputs": [],
   "source": [
    "library(repr)\n",
    "options(repr.plot.width=12, repr.plot.height=10)"
   ]
  },
  {
   "cell_type": "code",
   "execution_count": 3,
   "metadata": {},
   "outputs": [],
   "source": [
    "TedTalks <- read_excel(\"TedTalk_Lead_Sample.xlsx\")"
   ]
  },
  {
   "cell_type": "code",
   "execution_count": 4,
   "metadata": {},
   "outputs": [],
   "source": [
    "library(lm.beta)"
   ]
  },
  {
   "cell_type": "markdown",
   "metadata": {},
   "source": [
    "# Regression Models RQ1"
   ]
  },
  {
   "cell_type": "code",
   "execution_count": 5,
   "metadata": {
    "scrolled": false
   },
   "outputs": [
    {
     "data": {
      "text/plain": [
       "\n",
       "Call:\n",
       "lm(formula = rating_inspiring_percent ~ Laughs_per_min + languages + \n",
       "    event + Num_words_per_s + Date_2006 + Date_2007 + Date_2008 + \n",
       "    Date_2009 + Date_2010 + Date_2011 + Date_2012 + Date_2013 + \n",
       "    Date_2014 + Date_2015 + Date_2016, data = TedTalks)\n",
       "\n",
       "Residuals:\n",
       "     Min       1Q   Median       3Q      Max \n",
       "-0.18507 -0.07842 -0.01013  0.07279  0.41410 \n",
       "\n",
       "Coefficients:\n",
       "                  Estimate Std. Error t value Pr(>|t|)    \n",
       "(Intercept)      0.2592518  0.0248254  10.443  < 2e-16 ***\n",
       "Laughs_per_min  -0.0013917  0.0093685  -0.149 0.881940    \n",
       "languages        0.0013252  0.0005276   2.512 0.012165 *  \n",
       "event           -0.0127490  0.0069534  -1.833 0.067027 .  \n",
       "Num_words_per_s -0.0175329  0.0076884  -2.280 0.022792 *  \n",
       "Date_2006       -0.0398208  0.0253758  -1.569 0.116908    \n",
       "Date_2007       -0.0657709  0.0207326  -3.172 0.001558 ** \n",
       "Date_2008       -0.0795921  0.0196596  -4.049 5.55e-05 ***\n",
       "Date_2009       -0.0715893  0.0187570  -3.817 0.000144 ***\n",
       "Date_2010       -0.0474384  0.0180969  -2.621 0.008891 ** \n",
       "Date_2011       -0.0707136  0.0189582  -3.730 0.000202 ***\n",
       "Date_2012       -0.0708001  0.0174762  -4.051 5.49e-05 ***\n",
       "Date_2013       -0.0531522  0.0184607  -2.879 0.004072 ** \n",
       "Date_2014       -0.0535462  0.0179860  -2.977 0.002980 ** \n",
       "Date_2015       -0.0438523  0.0183788  -2.386 0.017217 *  \n",
       "Date_2016       -0.0395353  0.0171848  -2.301 0.021620 *  \n",
       "---\n",
       "Signif. codes:  0 ‘***’ 0.001 ‘**’ 0.01 ‘*’ 0.05 ‘.’ 0.1 ‘ ’ 1\n",
       "\n",
       "Residual standard error: 0.09963 on 1000 degrees of freedom\n",
       "Multiple R-squared:  0.04679,\tAdjusted R-squared:  0.03249 \n",
       "F-statistic: 3.272 on 15 and 1000 DF,  p-value: 2.337e-05\n"
      ]
     },
     "metadata": {},
     "output_type": "display_data"
    },
    {
     "data": {
      "text/plain": [
       "\n",
       "Call:\n",
       "lm(formula = rating_inspiring_percent ~ Laughs_per_min + languages + \n",
       "    event + Num_words_per_s + Date_2006 + Date_2007 + Date_2008 + \n",
       "    Date_2009 + Date_2010 + Date_2011 + Date_2012 + Date_2013 + \n",
       "    Date_2014 + Date_2015 + Date_2016, data = TedTalks)\n",
       "\n",
       "Standardized Coefficients::\n",
       "    (Intercept)  Laughs_per_min       languages           event Num_words_per_s \n",
       "    0.000000000    -0.004689668     0.091002919    -0.062364963    -0.072766910 \n",
       "      Date_2006       Date_2007       Date_2008       Date_2009       Date_2010 \n",
       "   -0.060936602    -0.140530099    -0.196467430    -0.192615035    -0.142641410 \n",
       "      Date_2011       Date_2012       Date_2013       Date_2014       Date_2015 \n",
       "   -0.211728349    -0.231285614    -0.154994818    -0.162354630    -0.121205316 \n",
       "      Date_2016 \n",
       "   -0.119872715 \n"
      ]
     },
     "metadata": {},
     "output_type": "display_data"
    }
   ],
   "source": [
    "TedData_inspiring.lm <- lm(formula = rating_inspiring_percent ~ Laughs_per_min + languages + event + Num_words_per_s\n",
    "                        + Date_2006 + Date_2007 + Date_2008 + Date_2009 + Date_2010 + Date_2011 + Date_2012 + Date_2013 + Date_2014 + Date_2015 + Date_2016,\n",
    "                           data = TedTalks)\n",
    "\n",
    "summary(TedData_inspiring.lm)\n",
    "lm.beta(TedData_inspiring.lm)"
   ]
  },
  {
   "cell_type": "code",
   "execution_count": 6,
   "metadata": {},
   "outputs": [
    {
     "data": {
      "text/plain": [
       "\n",
       "Call:\n",
       "lm(formula = rating_ingenious_percent ~ Laughs_per_min + languages + \n",
       "    event + Num_words_per_s + Date_2006 + Date_2007 + Date_2008 + \n",
       "    Date_2009 + Date_2010 + Date_2011 + Date_2012 + Date_2013 + \n",
       "    Date_2014 + Date_2015 + Date_2016, data = TedTalks)\n",
       "\n",
       "Residuals:\n",
       "     Min       1Q   Median       3Q      Max \n",
       "-0.09111 -0.04426 -0.02359  0.02447  0.39691 \n",
       "\n",
       "Coefficients:\n",
       "                  Estimate Std. Error t value Pr(>|t|)    \n",
       "(Intercept)      1.765e-03  1.648e-02   0.107 0.914712    \n",
       "Laughs_per_min   1.084e-02  6.219e-03   1.743 0.081647 .  \n",
       "languages       -4.884e-05  3.502e-04  -0.139 0.889120    \n",
       "event            1.523e-02  4.616e-03   3.300 0.001003 ** \n",
       "Num_words_per_s  1.765e-02  5.104e-03   3.457 0.000569 ***\n",
       "Date_2006       -2.363e-03  1.685e-02  -0.140 0.888458    \n",
       "Date_2007        6.158e-03  1.376e-02   0.447 0.654650    \n",
       "Date_2008        1.885e-03  1.305e-02   0.144 0.885193    \n",
       "Date_2009        1.584e-02  1.245e-02   1.272 0.203612    \n",
       "Date_2010        1.542e-02  1.201e-02   1.283 0.199667    \n",
       "Date_2011        2.130e-02  1.258e-02   1.692 0.090933 .  \n",
       "Date_2012        1.986e-02  1.160e-02   1.712 0.087163 .  \n",
       "Date_2013        1.449e-02  1.225e-02   1.182 0.237352    \n",
       "Date_2014        6.891e-03  1.194e-02   0.577 0.563961    \n",
       "Date_2015        2.664e-03  1.220e-02   0.218 0.827215    \n",
       "Date_2016        1.373e-03  1.141e-02   0.120 0.904209    \n",
       "---\n",
       "Signif. codes:  0 ‘***’ 0.001 ‘**’ 0.01 ‘*’ 0.05 ‘.’ 0.1 ‘ ’ 1\n",
       "\n",
       "Residual standard error: 0.06614 on 1000 degrees of freedom\n",
       "Multiple R-squared:  0.0414,\tAdjusted R-squared:  0.02702 \n",
       "F-statistic: 2.879 on 15 and 1000 DF,  p-value: 0.0001843\n"
      ]
     },
     "metadata": {},
     "output_type": "display_data"
    },
    {
     "data": {
      "text/plain": [
       "\n",
       "Call:\n",
       "lm(formula = rating_ingenious_percent ~ Laughs_per_min + languages + \n",
       "    event + Num_words_per_s + Date_2006 + Date_2007 + Date_2008 + \n",
       "    Date_2009 + Date_2010 + Date_2011 + Date_2012 + Date_2013 + \n",
       "    Date_2014 + Date_2015 + Date_2016, data = TedTalks)\n",
       "\n",
       "Standardized Coefficients::\n",
       "    (Intercept)  Laughs_per_min       languages           event Num_words_per_s \n",
       "    0.000000000     0.055180347    -0.005066505     0.112548107     0.110632045 \n",
       "      Date_2006       Date_2007       Date_2008       Date_2009       Date_2010 \n",
       "   -0.005463161     0.019877044     0.007028513     0.064382946     0.070030815 \n",
       "      Date_2011       Date_2012       Date_2013       Date_2014       Date_2015 \n",
       "    0.096323032     0.098027682     0.063827797     0.031563899     0.011122092 \n",
       "      Date_2016 \n",
       "    0.006289918 \n"
      ]
     },
     "metadata": {},
     "output_type": "display_data"
    }
   ],
   "source": [
    "TedData_ingenious.lm <- lm(formula = rating_ingenious_percent ~ Laughs_per_min + languages + event + Num_words_per_s\n",
    "                        + Date_2006 + Date_2007 + Date_2008 + Date_2009 + Date_2010 + Date_2011 + Date_2012 + Date_2013 + Date_2014 + Date_2015 + Date_2016,\n",
    "                           data = TedTalks)\n",
    "\n",
    "summary(TedData_ingenious.lm)\n",
    "lm.beta(TedData_ingenious.lm)"
   ]
  },
  {
   "cell_type": "code",
   "execution_count": 7,
   "metadata": {},
   "outputs": [
    {
     "data": {
      "text/plain": [
       "\n",
       "Call:\n",
       "lm(formula = rating_obnoxious_percent ~ Laughs_per_min + languages + \n",
       "    event + Num_words_per_s + Date_2006 + Date_2007 + Date_2008 + \n",
       "    Date_2009 + Date_2010 + Date_2011 + Date_2012 + Date_2013 + \n",
       "    Date_2014 + Date_2015 + Date_2016, data = TedTalks)\n",
       "\n",
       "Residuals:\n",
       "      Min        1Q    Median        3Q       Max \n",
       "-0.022898 -0.008828 -0.004393  0.002953  0.150692 \n",
       "\n",
       "Coefficients:\n",
       "                  Estimate Std. Error t value Pr(>|t|)    \n",
       "(Intercept)      2.168e-02  4.072e-03   5.324 1.25e-07 ***\n",
       "Laughs_per_min   2.505e-03  1.537e-03   1.630 0.103399    \n",
       "languages       -2.568e-04  8.654e-05  -2.967 0.003078 ** \n",
       "event           -9.280e-04  1.141e-03  -0.814 0.416064    \n",
       "Num_words_per_s -3.899e-03  1.261e-03  -3.091 0.002047 ** \n",
       "Date_2006        1.365e-02  4.163e-03   3.278 0.001080 ** \n",
       "Date_2007        1.011e-02  3.401e-03   2.972 0.003033 ** \n",
       "Date_2008        1.276e-02  3.225e-03   3.956 8.17e-05 ***\n",
       "Date_2009        1.487e-02  3.077e-03   4.834 1.55e-06 ***\n",
       "Date_2010        1.008e-02  2.969e-03   3.396 0.000711 ***\n",
       "Date_2011        1.029e-02  3.110e-03   3.310 0.000967 ***\n",
       "Date_2012        9.223e-03  2.867e-03   3.217 0.001336 ** \n",
       "Date_2013        7.341e-03  3.028e-03   2.424 0.015523 *  \n",
       "Date_2014        6.617e-03  2.950e-03   2.243 0.025130 *  \n",
       "Date_2015        3.518e-03  3.015e-03   1.167 0.243580    \n",
       "Date_2016        6.848e-03  2.819e-03   2.429 0.015310 *  \n",
       "---\n",
       "Signif. codes:  0 ‘***’ 0.001 ‘**’ 0.01 ‘*’ 0.05 ‘.’ 0.1 ‘ ’ 1\n",
       "\n",
       "Residual standard error: 0.01634 on 1000 degrees of freedom\n",
       "Multiple R-squared:  0.04903,\tAdjusted R-squared:  0.03476 \n",
       "F-statistic: 3.437 on 15 and 1000 DF,  p-value: 9.626e-06\n"
      ]
     },
     "metadata": {},
     "output_type": "display_data"
    },
    {
     "data": {
      "text/plain": [
       "\n",
       "Call:\n",
       "lm(formula = rating_obnoxious_percent ~ Laughs_per_min + languages + \n",
       "    event + Num_words_per_s + Date_2006 + Date_2007 + Date_2008 + \n",
       "    Date_2009 + Date_2010 + Date_2011 + Date_2012 + Date_2013 + \n",
       "    Date_2014 + Date_2015 + Date_2016, data = TedTalks)\n",
       "\n",
       "Standardized Coefficients::\n",
       "    (Intercept)  Laughs_per_min       languages           event Num_words_per_s \n",
       "     0.00000000      0.05140096     -0.10736615     -0.02764186     -0.09853051 \n",
       "      Date_2006       Date_2007       Date_2008       Date_2009       Date_2010 \n",
       "     0.12715655      0.13148360      0.19174401      0.24365222      0.18457016 \n",
       "      Date_2011       Date_2012       Date_2013       Date_2014       Date_2015 \n",
       "     0.18765726      0.18345741      0.13034126      0.12216399      0.05920001 \n",
       "      Date_2016 \n",
       "     0.12642259 \n"
      ]
     },
     "metadata": {},
     "output_type": "display_data"
    }
   ],
   "source": [
    "TedData_obnoxious.lm <- lm(formula = rating_obnoxious_percent ~ Laughs_per_min + languages + event + Num_words_per_s\n",
    "                        + Date_2006 + Date_2007 + Date_2008 + Date_2009 + Date_2010 + Date_2011 + Date_2012 + Date_2013 + Date_2014 + Date_2015 + Date_2016,\n",
    "                           data = TedTalks)\n",
    "\n",
    "summary(TedData_obnoxious.lm)\n",
    "lm.beta(TedData_obnoxious.lm)"
   ]
  },
  {
   "cell_type": "code",
   "execution_count": 8,
   "metadata": {
    "scrolled": false
   },
   "outputs": [
    {
     "data": {
      "text/plain": [
       "\n",
       "Call:\n",
       "lm(formula = rating_unconvincing_percent ~ Laughs_per_min + languages + \n",
       "    event + Num_words_per_s + Date_2006 + Date_2007 + Date_2008 + \n",
       "    Date_2009 + Date_2010 + Date_2011 + Date_2012 + Date_2013 + \n",
       "    Date_2014 + Date_2015 + Date_2016, data = TedTalks)\n",
       "\n",
       "Residuals:\n",
       "     Min       1Q   Median       3Q      Max \n",
       "-0.04755 -0.02203 -0.01185  0.00772  0.42750 \n",
       "\n",
       "Coefficients:\n",
       "                  Estimate Std. Error t value Pr(>|t|)    \n",
       "(Intercept)      0.0336107  0.0100646   3.339  0.00087 ***\n",
       "Laughs_per_min  -0.0097962  0.0037981  -2.579  0.01004 *  \n",
       "languages       -0.0004201  0.0002139  -1.964  0.04978 *  \n",
       "event            0.0015955  0.0028190   0.566  0.57153    \n",
       "Num_words_per_s -0.0028130  0.0031170  -0.902  0.36703    \n",
       "Date_2006        0.0223172  0.0102878   2.169  0.03030 *  \n",
       "Date_2007        0.0187874  0.0084053   2.235  0.02563 *  \n",
       "Date_2008        0.0217028  0.0079703   2.723  0.00658 ** \n",
       "Date_2009        0.0341522  0.0076044   4.491 7.91e-06 ***\n",
       "Date_2010        0.0181309  0.0073368   2.471  0.01363 *  \n",
       "Date_2011        0.0230466  0.0076860   2.999  0.00278 ** \n",
       "Date_2012        0.0201774  0.0070851   2.848  0.00449 ** \n",
       "Date_2013        0.0192738  0.0074843   2.575  0.01016 *  \n",
       "Date_2014        0.0189226  0.0072918   2.595  0.00960 ** \n",
       "Date_2015        0.0128866  0.0074511   1.730  0.08403 .  \n",
       "Date_2016        0.0116537  0.0069670   1.673  0.09470 .  \n",
       "---\n",
       "Signif. codes:  0 ‘***’ 0.001 ‘**’ 0.01 ‘*’ 0.05 ‘.’ 0.1 ‘ ’ 1\n",
       "\n",
       "Residual standard error: 0.04039 on 1000 degrees of freedom\n",
       "Multiple R-squared:  0.03634,\tAdjusted R-squared:  0.02188 \n",
       "F-statistic: 2.514 on 15 and 1000 DF,  p-value: 0.001161\n"
      ]
     },
     "metadata": {},
     "output_type": "display_data"
    },
    {
     "data": {
      "text/plain": [
       "\n",
       "Call:\n",
       "lm(formula = rating_unconvincing_percent ~ Laughs_per_min + languages + \n",
       "    event + Num_words_per_s + Date_2006 + Date_2007 + Date_2008 + \n",
       "    Date_2009 + Date_2010 + Date_2011 + Date_2012 + Date_2013 + \n",
       "    Date_2014 + Date_2015 + Date_2016, data = TedTalks)\n",
       "\n",
       "Standardized Coefficients::\n",
       "    (Intercept)  Laughs_per_min       languages           event Num_words_per_s \n",
       "     0.00000000     -0.08187003     -0.07154967      0.01935673     -0.02895406 \n",
       "      Date_2006       Date_2007       Date_2008       Date_2009       Date_2010 \n",
       "     0.08469807      0.09955599      0.13286250      0.22789086      0.13520791 \n",
       "      Date_2011       Date_2012       Date_2013       Date_2014       Date_2015 \n",
       "     0.17113912      0.16347265      0.13938915      0.14229296      0.08833525 \n",
       "      Date_2016 \n",
       "     0.08763245 \n"
      ]
     },
     "metadata": {},
     "output_type": "display_data"
    }
   ],
   "source": [
    "TedData_unconvincing.lm <- lm(formula = rating_unconvincing_percent ~ Laughs_per_min + languages + event + Num_words_per_s\n",
    "                        + Date_2006 + Date_2007 + Date_2008 + Date_2009 + Date_2010 + Date_2011 + Date_2012 + Date_2013 + Date_2014 + Date_2015 + Date_2016,\n",
    "                           data = TedTalks)\n",
    "\n",
    "summary(TedData_unconvincing.lm)\n",
    "lm.beta(TedData_unconvincing.lm)"
   ]
  },
  {
   "cell_type": "markdown",
   "metadata": {},
   "source": [
    "## Other observations"
   ]
  },
  {
   "cell_type": "code",
   "execution_count": 9,
   "metadata": {
    "scrolled": false
   },
   "outputs": [
    {
     "data": {
      "text/plain": [
       "\n",
       "Call:\n",
       "lm(formula = views ~ Laughs_per_min + languages + event + Num_words_per_s + \n",
       "    Date_2006 + Date_2007 + Date_2008 + Date_2009 + Date_2010 + \n",
       "    Date_2011 + Date_2012 + Date_2013 + Date_2014 + Date_2015 + \n",
       "    Date_2016, data = TedTalks)\n",
       "\n",
       "Residuals:\n",
       "     Min       1Q   Median       3Q      Max \n",
       "-2310086  -400230  -142746   211279  3112993 \n",
       "\n",
       "Coefficients:\n",
       "                Estimate Std. Error t value Pr(>|t|)    \n",
       "(Intercept)      -219332     176920  -1.240 0.215367    \n",
       "Laughs_per_min    459658      66765   6.885 1.02e-11 ***\n",
       "languages          62370       3760  16.589  < 2e-16 ***\n",
       "event             118892      49554   2.399 0.016611 *  \n",
       "Num_words_per_s   118403      54792   2.161 0.030936 *  \n",
       "Date_2006        -641659     180842  -3.548 0.000406 ***\n",
       "Date_2007        -707726     147752  -4.790 1.92e-06 ***\n",
       "Date_2008        -880653     140105  -6.286 4.87e-10 ***\n",
       "Date_2009        -938507     133673  -7.021 4.06e-12 ***\n",
       "Date_2010        -929366     128969  -7.206 1.13e-12 ***\n",
       "Date_2011       -1126330     135107  -8.337 2.51e-16 ***\n",
       "Date_2012        -736601     124545  -5.914 4.57e-09 ***\n",
       "Date_2013        -456790     131561  -3.472 0.000539 ***\n",
       "Date_2014        -477088     128178  -3.722 0.000209 ***\n",
       "Date_2015        -508368     130977  -3.881 0.000111 ***\n",
       "Date_2016        -364905     122469  -2.980 0.002956 ** \n",
       "---\n",
       "Signif. codes:  0 ‘***’ 0.001 ‘**’ 0.01 ‘*’ 0.05 ‘.’ 0.1 ‘ ’ 1\n",
       "\n",
       "Residual standard error: 710000 on 1000 degrees of freedom\n",
       "Multiple R-squared:  0.3042,\tAdjusted R-squared:  0.2938 \n",
       "F-statistic: 29.15 on 15 and 1000 DF,  p-value: < 2.2e-16\n"
      ]
     },
     "metadata": {},
     "output_type": "display_data"
    },
    {
     "data": {
      "text/plain": [
       "\n",
       "Call:\n",
       "lm(formula = views ~ Laughs_per_min + languages + event + Num_words_per_s + \n",
       "    Date_2006 + Date_2007 + Date_2008 + Date_2009 + Date_2010 + \n",
       "    Date_2011 + Date_2012 + Date_2013 + Date_2014 + Date_2015 + \n",
       "    Date_2016, data = TedTalks)\n",
       "\n",
       "Standardized Coefficients::\n",
       "    (Intercept)  Laughs_per_min       languages           event Num_words_per_s \n",
       "     0.00000000      0.18569025      0.51347063      0.06972192      0.05891071 \n",
       "      Date_2006       Date_2007       Date_2008       Date_2009       Date_2010 \n",
       "    -0.11771320     -0.18128118     -0.26060173     -0.30271367     -0.33500756 \n",
       "      Date_2011       Date_2012       Date_2013       Date_2014       Date_2015 \n",
       "    -0.40429078     -0.28846883     -0.15968545     -0.17341505     -0.16844545 \n",
       "      Date_2016 \n",
       "    -0.13263791 \n"
      ]
     },
     "metadata": {},
     "output_type": "display_data"
    }
   ],
   "source": [
    "# Views\n",
    "\n",
    "TedData_views.lm <- lm(formula = views ~ Laughs_per_min + languages + event + Num_words_per_s\n",
    "                        + Date_2006 + Date_2007 + Date_2008 + Date_2009 + Date_2010 + Date_2011 + Date_2012 + Date_2013 + Date_2014 + Date_2015 + Date_2016,\n",
    "                           data = TedTalks)\n",
    "\n",
    "summary(TedData_views.lm)\n",
    "lm.beta(TedData_views.lm)"
   ]
  },
  {
   "cell_type": "code",
   "execution_count": 10,
   "metadata": {
    "scrolled": false
   },
   "outputs": [
    {
     "data": {
      "text/plain": [
       "\n",
       "Call:\n",
       "lm(formula = rating_funny_percent ~ Laughs_per_min + languages + \n",
       "    event + Num_words_per_s + Date_2006 + Date_2007 + Date_2008 + \n",
       "    Date_2009 + Date_2010 + Date_2011 + Date_2012 + Date_2013 + \n",
       "    Date_2014 + Date_2015 + Date_2016, data = TedTalks)\n",
       "\n",
       "Residuals:\n",
       "     Min       1Q   Median       3Q      Max \n",
       "-0.18194 -0.02303 -0.00510  0.00809  0.50563 \n",
       "\n",
       "Coefficients:\n",
       "                  Estimate Std. Error t value Pr(>|t|)    \n",
       "(Intercept)     -0.0331240  0.0126429  -2.620  0.00893 ** \n",
       "Laughs_per_min   0.1333967  0.0047711  27.959  < 2e-16 ***\n",
       "languages        0.0012054  0.0002687   4.487 8.08e-06 ***\n",
       "event           -0.0009060  0.0035412  -0.256  0.79813    \n",
       "Num_words_per_s  0.0005222  0.0039155   0.133  0.89394    \n",
       "Date_2006       -0.0117890  0.0129232  -0.912  0.36187    \n",
       "Date_2007        0.0208150  0.0105585   1.971  0.04895 *  \n",
       "Date_2008        0.0175306  0.0100121   1.751  0.08026 .  \n",
       "Date_2009        0.0054803  0.0095524   0.574  0.56630    \n",
       "Date_2010       -0.0016707  0.0092163  -0.181  0.85619    \n",
       "Date_2011       -0.0018537  0.0096549  -0.192  0.84779    \n",
       "Date_2012       -0.0028417  0.0089001  -0.319  0.74958    \n",
       "Date_2013        0.0031021  0.0094015   0.330  0.74150    \n",
       "Date_2014        0.0131292  0.0091598   1.433  0.15207    \n",
       "Date_2015       -0.0015640  0.0093598  -0.167  0.86733    \n",
       "Date_2016        0.0017325  0.0087517   0.198  0.84312    \n",
       "---\n",
       "Signif. codes:  0 ‘***’ 0.001 ‘**’ 0.01 ‘*’ 0.05 ‘.’ 0.1 ‘ ’ 1\n",
       "\n",
       "Residual standard error: 0.05074 on 1000 degrees of freedom\n",
       "Multiple R-squared:  0.4652,\tAdjusted R-squared:  0.4571 \n",
       "F-statistic: 57.98 on 15 and 1000 DF,  p-value: < 2.2e-16\n"
      ]
     },
     "metadata": {},
     "output_type": "display_data"
    },
    {
     "data": {
      "text/plain": [
       "\n",
       "Call:\n",
       "lm(formula = rating_funny_percent ~ Laughs_per_min + languages + \n",
       "    event + Num_words_per_s + Date_2006 + Date_2007 + Date_2008 + \n",
       "    Date_2009 + Date_2010 + Date_2011 + Date_2012 + Date_2013 + \n",
       "    Date_2014 + Date_2015 + Date_2016, data = TedTalks)\n",
       "\n",
       "Standardized Coefficients::\n",
       "    (Intercept)  Laughs_per_min       languages           event Num_words_per_s \n",
       "    0.000000000     0.661172279     0.121756316    -0.006518452     0.003187502 \n",
       "      Date_2006       Date_2007       Date_2008       Date_2009       Date_2010 \n",
       "   -0.026534541     0.065415370     0.063647884     0.021687564    -0.007388732 \n",
       "      Date_2011       Date_2012       Date_2013       Date_2014       Date_2015 \n",
       "   -0.008163466    -0.013653827     0.013305278     0.058552089    -0.006358091 \n",
       "      Date_2016 \n",
       "    0.007726228 \n"
      ]
     },
     "metadata": {},
     "output_type": "display_data"
    }
   ],
   "source": [
    "# Rating Funny\n",
    "\n",
    "TedData_funny.lm <- lm(formula = rating_funny_percent ~ Laughs_per_min + languages + event + Num_words_per_s\n",
    "                        + Date_2006 + Date_2007 + Date_2008 + Date_2009 + Date_2010 + Date_2011 + Date_2012 + Date_2013 + Date_2014 + Date_2015 + Date_2016,\n",
    "                           data = TedTalks)\n",
    "\n",
    "summary(TedData_funny.lm)\n",
    "lm.beta(TedData_funny.lm)"
   ]
  },
  {
   "cell_type": "code",
   "execution_count": null,
   "metadata": {},
   "outputs": [],
   "source": [
    "# Export Table, Lead Sample, Total\n",
    "\n",
    "library(stargazer)\n",
    "\n",
    "stargazer(TedData_inspiring.lm, TedData_ingenious.lm, TedData_obnoxious.lm, TedData_unconvincing.lm, \n",
    "          title=\"Regression Results Total Lead Sample\",\n",
    "          align=TRUE, dep.var.labels=c(\"Inspiring\",\"Ingenious\",\"Obnoxious\",\"Unconvincing\"),\n",
    "          omit.stat=c(\"LL\",\"ser\",\"f\"), \n",
    "          single.row=TRUE,\n",
    "          no.space=TRUE,\n",
    "          out = \"Total.1.html\")"
   ]
  }
 ],
 "metadata": {
  "kernelspec": {
   "display_name": "R",
   "language": "R",
   "name": "ir"
  },
  "language_info": {
   "codemirror_mode": "r",
   "file_extension": ".r",
   "mimetype": "text/x-r-source",
   "name": "R",
   "pygments_lexer": "r",
   "version": "3.6.1"
  }
 },
 "nbformat": 4,
 "nbformat_minor": 4
}
