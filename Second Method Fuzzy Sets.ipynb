{
 "cells": [
  {
   "cell_type": "code",
   "execution_count": 2,
   "metadata": {},
   "outputs": [],
   "source": [
    "import pandas as pd\n",
    "import re\n",
    "import numpy as np\n",
    "from pandas.plotting import scatter_matrix\n",
    "import matplotlib.pyplot as plt"
   ]
  },
  {
   "cell_type": "code",
   "execution_count": 3,
   "metadata": {},
   "outputs": [],
   "source": [
    "file_name = 'Komplett Dataset'"
   ]
  },
  {
   "cell_type": "code",
   "execution_count": 4,
   "metadata": {},
   "outputs": [],
   "source": [
    "data = pd.read_excel(file_name + '.xlsx')"
   ]
  },
  {
   "cell_type": "code",
   "execution_count": 5,
   "metadata": {},
   "outputs": [],
   "source": [
    "# Finds positions of laughters \n",
    "\n",
    "laughs = data['Transcripts'].apply(lambda a: np.array([m.start() for m in re.finditer('(Laughter)', a)]))"
   ]
  },
  {
   "cell_type": "code",
   "execution_count": 6,
   "metadata": {},
   "outputs": [],
   "source": [
    "# Counts the number of laughs and lengths\n",
    "\n",
    "number_of_laughs = laughs.apply(len)\n",
    "transcript_lenghts = data['Transcripts'].apply(len)"
   ]
  },
  {
   "cell_type": "code",
   "execution_count": 7,
   "metadata": {
    "scrolled": true
   },
   "outputs": [],
   "source": [
    "# Normalizes laugh locations\n",
    "\n",
    "laugh_locations = []\n",
    "for locations, size in zip(laughs, transcript_lenghts):\n",
    "    laugh_locations.append(locations / size)"
   ]
  },
  {
   "cell_type": "code",
   "execution_count": 8,
   "metadata": {},
   "outputs": [],
   "source": [
    "# Defines the triangular fuzzy variables\n",
    "\n",
    "centers = [0, 0.25, 0.50, 0.75, 1]\n",
    "widths = [0.2, 0.2, 0.2, 0.2, 0.2]"
   ]
  },
  {
   "cell_type": "code",
   "execution_count": 9,
   "metadata": {},
   "outputs": [],
   "source": [
    "# Sum the contribution for each laugh on eac fuzzy variable\n",
    "\n",
    "new_variables = []\n",
    "for talk, n_laughts in zip(laugh_locations, number_of_laughs):\n",
    "    new_variable_counts = [n_laughts]\n",
    "    for center, width in zip(centers, widths):\n",
    "        center_value = 0\n",
    "        for laugh in talk:\n",
    "            distance = abs(laugh - center)\n",
    "            if distance < width:\n",
    "                center_value += distance / width\n",
    "        else:\n",
    "            new_variable_counts.append(center_value)\n",
    "    new_variables.append(new_variable_counts)"
   ]
  },
  {
   "cell_type": "code",
   "execution_count": 10,
   "metadata": {
    "scrolled": false
   },
   "outputs": [],
   "source": [
    "# Name the variables\n",
    "\n",
    "new_column_names = [*['triangle_' + str(center) for center in centers]]\n",
    "new_variables_pd = pd.DataFrame(new_variables, columns=['number_of_laughs', *new_column_names])"
   ]
  },
  {
   "cell_type": "code",
   "execution_count": 11,
   "metadata": {},
   "outputs": [],
   "source": [
    "# Normalizing the new variables\n",
    "\n",
    "new_variables_pd_normalized = new_variables_pd[new_column_names]\\\n",
    "    .div(new_variables_pd[new_column_names].sum(axis=1), axis=0)\n",
    "\n",
    "new_variables_pd_normalized = new_variables_pd_normalized.fillna(0)"
   ]
  },
  {
   "cell_type": "code",
   "execution_count": 12,
   "metadata": {},
   "outputs": [],
   "source": [
    "data = data.join(new_variables_pd)\n",
    "data = data.join(new_variables_pd_normalized, rsuffix='_normalized')"
   ]
  },
  {
   "cell_type": "raw",
   "metadata": {},
   "source": [
    "data.to_excel(file_name + '_with_fuzzy_variables.xlsx')"
   ]
  },
  {
   "cell_type": "code",
   "execution_count": null,
   "metadata": {},
   "outputs": [],
   "source": []
  },
  {
   "cell_type": "markdown",
   "metadata": {},
   "source": [
    "## Distribution of laughs over time normalized "
   ]
  },
  {
   "cell_type": "code",
   "execution_count": 14,
   "metadata": {},
   "outputs": [
    {
     "data": {
      "image/png": "[encoded data removed]",
      "text/plain": [
       "<Figure size 432x288 with 1 Axes>"
      ]
     },
     "metadata": {},
     "output_type": "display_data"
    }
   ],
   "source": [
    "# How far in, percentage wise, the laughs occur\n",
    "\n",
    "plt.style.use('grayscale')\n",
    "\n",
    "all_locations = []\n",
    "for talk in laugh_locations:\n",
    "    for t in talk:\n",
    "        all_locations.append(t)\n",
    "        \n",
    "all_locations = np.array(all_locations)\n",
    "\n",
    "fig, ax = plt.subplots()#figsize=(6, 3))\n",
    "ax.hist(all_locations, bins=20)\n",
    "\n",
    "plt.savefig('Laughs_distributed.pdf', transparent=True, bbox_inches='tight')\n",
    "\n",
    "plt.show()"
   ]
  },
  {
   "cell_type": "code",
   "execution_count": null,
   "metadata": {},
   "outputs": [],
   "source": []
  }
 ],
 "metadata": {
  "kernelspec": {
   "display_name": "Python 3",
   "language": "python",
   "name": "python3"
  },
  "language_info": {
   "codemirror_mode": {
    "name": "ipython",
    "version": 3
   },
   "file_extension": ".py",
   "mimetype": "text/x-python",
   "name": "python",
   "nbconvert_exporter": "python",
   "pygments_lexer": "ipython3",
   "version": "3.7.7"
  }
 },
 "nbformat": 4,
 "nbformat_minor": 2
}
